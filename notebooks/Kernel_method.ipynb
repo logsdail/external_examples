{
  "nbformat": 4,
  "nbformat_minor": 0,
  "metadata": {
    "colab": {
      "provenance": []
    },
    "kernelspec": {
      "name": "python3",
      "display_name": "Python 3"
    },
    "language_info": {
      "name": "python"
    }
  },
  "cells": [
    {
      "cell_type": "code",
      "execution_count": null,
      "metadata": {
        "id": "X_phqOYzKzmD"
      },
      "outputs": [],
      "source": []
    },
    {
      "cell_type": "markdown",
      "source": [
        "# Kernel regression method\n",
        "\n",
        "## Linear regression\n",
        "\n",
        "### One dimension, one point\n",
        "\n",
        "$$y = k x \\implies k = \\frac{y}{x} = x^{-1}y$$\n",
        "\n",
        "### One dimension, multiple points (*aka* samples)\n",
        "\n",
        "https://upload.wikimedia.org/wikipedia/commons/thumb/b/b0/Linear_least_squares_example2.svg/330px-Linear_least_squares_example2.svg.png\n",
        "\n",
        "$$y_i \\approx k x_i \\implies k = \\underset{k}{argmin}  \\sum_{i=1}^s L(y_i - kx_i)$$\n",
        "where $L(t)$ is a loss function, e.g. $t^2$ or $|t|$; $s$ is a number of samples\n",
        "\n",
        "\n",
        "\n",
        "### Multiple dimensions of $x$ (*aka* features), multiple samples\n",
        "\n",
        "$$y_i = \\sum_{j=1}^f k_j X_{ij} \\implies \\textbf{k} = X^{-1} \\textbf{y} $$\n",
        "\n",
        "where $f$ is a number of features\n",
        "\n",
        "In matrix form **with shapes**:\n",
        "\n",
        "$${_s\\textbf{y}_1 = _sX _f \\textbf{k} _1  \\implies  _f \\textbf{k}_1 = _f {X^{-1}}_s \\textbf{y} _1 }$$\n",
        "\n",
        "\n",
        "\n",
        " $X^{-1}$  is defined iif $f = s$. Otherwise the **Moore-Penrose inversion** (*aka* pseudoinversion) is used:\n",
        "\n",
        "$$ _f X^+ _s := \\underset{X^+}{argmin} L( _s\\textbf{y}_1 - _sX _f \\textbf{k} _1 )$$\n",
        "\n",
        "$$ _f X^+ _s := \\underset{X^+}{argmin} L( _s\\textbf{y}_1 - _sX _f {X^{+}}_s \\textbf{y} _1) $$\n",
        "\n",
        "### Moore-Penrose inversion\n",
        "\n",
        "$$ _f X^+ _s = _f {X^T} _s {( _s X _f {X^T} _s)^{-1}}_s  =  _f {(_f {X^T} _s X _f )^{-1}} _f {X^T}_s $$\n",
        "\n",
        "\n",
        "\n",
        "### Multiple targets ($t$)\n",
        "\n",
        "\n",
        "$$_s\\textbf{Y}_t \\approx _sX _f \\textbf{A} _t  \\implies  _f \\textbf{A}_t = _f {X^{+}}_s \\textbf{Y} _t $$\n",
        "\n",
        "$$_1\\textbf{y}_t \\approx _1 \\textbf{x} _f {X^{+}}_s \\textbf{Y} _t   $$\n",
        "\n",
        "$$_1\\textbf{y}_t \\approx _1 \\textbf{x} _f {X^T} _s {( _s X _f {X^T} _s)^{-1}}_s \\textbf{Y} _t   $$\n",
        "\n",
        "\n",
        "\n",
        "\n",
        "## Artificial features for non-linearity\n",
        "\n",
        "$$_s \\Phi(_s X _f)_\\phi$$\n",
        "\n",
        "**$\\phi$ can be infinite !**\n",
        "\n",
        "\n",
        "$$_s \\Phi(_s X _f)_\\phi  \\implies _s X _f$$\n",
        "\n",
        "\n",
        "$$_1\\textbf{y}_t \\approx _1 \\textbf{x} _f {X^T} _s {( _s X _f {X^T} _s)^{-1}}_s \\textbf{Y} _t   $$\n",
        "\n",
        "\n",
        "$$_1\\textbf{y}_t \\approx _1 \\Phi( \\textbf{x} _f ) _\\phi {\\Phi(X)^T} _s {( _s \\Phi(X) _\\phi {\\Phi(X)^T} _s)^{-1}}_s \\textbf{Y} _t   $$\n",
        "\n",
        "## Kernel\n",
        "\n",
        "$$_m K( _m X_f; _n Y _f) _n := _m \\Phi(X) _\\phi {\\Phi(Y)^T} _n $$\n",
        "\n",
        "\n",
        "\n",
        "$$_1\\textbf{y}_t \\approx _1 K( \\textbf{x}; X) _s K^{-1} (_s X_f ; _s X _f)  _s \\textbf{Y} _t   $$\n",
        "\n",
        "https://en.wikipedia.org/wiki/Radial_basis_function_kernel\n",
        "\n",
        "\n",
        "\n",
        "\n",
        "\n",
        "\n",
        "\n",
        "\n",
        "\n",
        "\n",
        "\n",
        "\n"
      ],
      "metadata": {
        "id": "aX_wdP-rK7z_"
      }
    },
    {
      "cell_type": "code",
      "source": [
        "$${_s\\textbf{Y}_t \\approx _sX _f \\textbf{A} _t"
      ],
      "metadata": {
        "id": "cEeHJQTkdt67"
      },
      "execution_count": null,
      "outputs": []
    }
  ]
}